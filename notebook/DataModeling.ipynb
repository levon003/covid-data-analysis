{
 "cells": [
  {
   "cell_type": "markdown",
   "id": "b8e566c4-69f3-4d12-9518-7d575a0b98c1",
   "metadata": {
    "tags": []
   },
   "source": [
    "# Data Modeling\n",
    "\n",
    "Ultimately, using the hospitalizations identified in the `DataExploration` notebook, I fit various logistic regression models. The bottom of this notebook interprets the model's coefficients.\n",
    "\n",
    "I selected logistic regression because it's what I would realistically choose first in a situation like this, where interpretability and prediction are both reasonably important and the number of covariates is very small. Critically, all of the covariates are naturally interpretable; age, gender, and race are comprehensible without additional transformation.\n",
    "\n",
    "Here are some things I would have liked to do but didn't get around to doing:\n",
    " - My validation approach (20-fold cross validation) is overly simplistic; realistically there is leakage between train and test, as patient hospitalizations are not independent events. A minimally reasonable approach, and the reason the `hdf` below contains provider information, would be to create 1 test fold for each provider. Creating a single temporally-bounded test set could be reasonable as well, although it would have to be done carefully.\n",
    " - Given the small number of covariates, a highly-interpretable risk-scoring model is likely to perform reasonably well. For example, one might use [FasterRisk](https://github.com/jiachangliu/FasterRisk) to fit an integer-only risk model.\n",
    " - The hyperparameter search I implemented is very cursory. Given the small size of the dataset, doing a more detailed search is probably overkill, but I would still expect to use a more elaborate test harness in situations where prediction is important.\n",
    " - The definition of hospitalizations I used (as implemented in `covid_modeling.io.DataLoader`) is probably questionable; modeling in a situation like this (where I have no knowledge of the data-generating process) is fairly unreasonable.  If there were no mechanism to better understand the data-generating process (such as via a SME or dataset documentation), drawing conclusions from this data would be unethical (and unwarranted).  In particular, noise in the application of SNOMED CT codes is something I mention in the `DataExploration` notebook, but I ultimately decided to be out-of-scope for this particular exploration. (For example, one might try to impute missing reason-codes or correct erroneous reason codes where there is reason to suspect a COVID-19 diagnosis.)\n",
    " - \"Interpretable\" is always contextual. I chose logistic regression because it is a language familiar to many data scientists and subject-matter experts---potentially even more familiar than a decision tree!  However, for particular types of clinical practitioners, I would try to create a much simpler model (e.g. using only a single covariate, or the integer-only model mentioned above)."
   ]
  },
  {
   "cell_type": "code",
   "execution_count": 1,
   "id": "ce2c5aa7-4b31-44ff-a68f-0dcfaf22d636",
   "metadata": {},
   "outputs": [
    {
     "ename": "ModuleNotFoundError",
     "evalue": "No module named 'covid_modeling'",
     "output_type": "error",
     "traceback": [
      "\u001b[0;31m---------------------------------------------------------------------------\u001b[0m",
      "\u001b[0;31mModuleNotFoundError\u001b[0m                       Traceback (most recent call last)",
      "\u001b[0;32m/var/folders/3q/tsc8jwtj2x54vbr1mvzfd6tw0000gn/T/ipykernel_5926/1158075177.py\u001b[0m in \u001b[0;36m<module>\u001b[0;34m\u001b[0m\n\u001b[1;32m     15\u001b[0m \u001b[0;32mfrom\u001b[0m \u001b[0mtqdm\u001b[0m \u001b[0;32mimport\u001b[0m \u001b[0mtqdm\u001b[0m\u001b[0;34m\u001b[0m\u001b[0;34m\u001b[0m\u001b[0m\n\u001b[1;32m     16\u001b[0m \u001b[0;34m\u001b[0m\u001b[0m\n\u001b[0;32m---> 17\u001b[0;31m \u001b[0;32mimport\u001b[0m \u001b[0mcovid_modeling\u001b[0m\u001b[0;34m.\u001b[0m\u001b[0mio\u001b[0m\u001b[0;34m\u001b[0m\u001b[0;34m\u001b[0m\u001b[0m\n\u001b[0m\u001b[1;32m     18\u001b[0m \u001b[0;32mimport\u001b[0m \u001b[0mcovid_modeling\u001b[0m\u001b[0;34m.\u001b[0m\u001b[0mmodeling\u001b[0m\u001b[0;34m\u001b[0m\u001b[0;34m\u001b[0m\u001b[0m\n",
      "\u001b[0;31mModuleNotFoundError\u001b[0m: No module named 'covid_modeling'"
     ]
    }
   ],
   "source": [
    "import pathlib\n",
    "import sys\n",
    "import warnings\n",
    "from datetime import timedelta\n",
    "\n",
    "import matplotlib.pyplot as plt\n",
    "import numpy as np\n",
    "import pandas as pd\n",
    "import sklearn\n",
    "import sklearn.linear_model\n",
    "import sklearn.model_selection\n",
    "import statsmodels\n",
    "import statsmodels.api as sm\n",
    "import statsmodels.formula.api as smf\n",
    "from tqdm import tqdm"
   ]
  },
  {
   "cell_type": "code",
   "execution_count": 3,
   "id": "ff0f780e-71a5-48a3-a042-f0e83dd20710",
   "metadata": {},
   "outputs": [
    {
     "data": {
      "text/plain": [
       "PosixPath('/Users/levoniaz/repos/covid-data-analysis/data')"
      ]
     },
     "execution_count": 3,
     "metadata": {},
     "output_type": "execute_result"
    }
   ],
   "source": [
    "# Using Jupyter magic + git to identify the data within the repository\n",
    "git_root_dir = !git rev-parse --show-toplevel\n",
    "git_root_dir = pathlib.Path(git_root_dir[0])\n",
    "data_dir = git_root_dir / \"data\"\n",
    "assert data_dir.exists(), f\"Expected directory '{data_dir}' to exist.\"\n",
    "data_dir"
   ]
  },
  {
   "cell_type": "code",
   "execution_count": 2,
   "id": "8b3dab11-df3e-49b5-bce8-31d7edddc79c",
   "metadata": {},
   "outputs": [
    {
     "ename": "NameError",
     "evalue": "name 'git_root_dir' is not defined",
     "output_type": "error",
     "traceback": [
      "\u001b[0;31m---------------------------------------------------------------------------\u001b[0m",
      "\u001b[0;31mNameError\u001b[0m                                 Traceback (most recent call last)",
      "\u001b[0;32m/var/folders/3q/tsc8jwtj2x54vbr1mvzfd6tw0000gn/T/ipykernel_5926/2198676748.py\u001b[0m in \u001b[0;36m<module>\u001b[0;34m\u001b[0m\n\u001b[1;32m      2\u001b[0m \u001b[0;31m# casual Jupyter hack to make it easy to import and develop an external Python module\u001b[0m\u001b[0;34m\u001b[0m\u001b[0;34m\u001b[0m\u001b[0m\n\u001b[1;32m      3\u001b[0m \u001b[0;31m# this is not good practice (but it's fine during development)\u001b[0m\u001b[0;34m\u001b[0m\u001b[0;34m\u001b[0m\u001b[0m\n\u001b[0;32m----> 4\u001b[0;31m \u001b[0msys\u001b[0m\u001b[0;34m.\u001b[0m\u001b[0mpath\u001b[0m\u001b[0;34m.\u001b[0m\u001b[0mappend\u001b[0m\u001b[0;34m(\u001b[0m\u001b[0mstr\u001b[0m\u001b[0;34m(\u001b[0m\u001b[0mgit_root_dir\u001b[0m \u001b[0;34m/\u001b[0m \u001b[0;34m\"src\"\u001b[0m\u001b[0;34m)\u001b[0m\u001b[0;34m)\u001b[0m\u001b[0;34m\u001b[0m\u001b[0;34m\u001b[0m\u001b[0m\n\u001b[0m\u001b[1;32m      5\u001b[0m \u001b[0;32mimport\u001b[0m \u001b[0mcovid_modeling\u001b[0m\u001b[0;34m.\u001b[0m\u001b[0mio\u001b[0m\u001b[0;34m\u001b[0m\u001b[0;34m\u001b[0m\u001b[0m\n\u001b[1;32m      6\u001b[0m \u001b[0;32mimport\u001b[0m \u001b[0mcovid_modeling\u001b[0m\u001b[0;34m.\u001b[0m\u001b[0mmodeling\u001b[0m\u001b[0;34m\u001b[0m\u001b[0;34m\u001b[0m\u001b[0m\n",
      "\u001b[0;31mNameError\u001b[0m: name 'git_root_dir' is not defined"
     ]
    }
   ],
   "source": [
    "# isort: off\n",
    "# casual Jupyter hack to make it easy to import and develop an external Python module\n",
    "# this is not good practice (but it's fine during development)\n",
    "sys.path.append(str(git_root_dir / \"src\"))\n",
    "import covid_modeling.io\n",
    "import covid_modeling.modeling"
   ]
  },
  {
   "cell_type": "code",
   "execution_count": 5,
   "id": "bcfae948-2a03-4b44-9c36-2cb85a25cd68",
   "metadata": {},
   "outputs": [
    {
     "data": {
      "text/html": [
       "<div>\n",
       "<style scoped>\n",
       "    .dataframe tbody tr th:only-of-type {\n",
       "        vertical-align: middle;\n",
       "    }\n",
       "\n",
       "    .dataframe tbody tr th {\n",
       "        vertical-align: top;\n",
       "    }\n",
       "\n",
       "    .dataframe thead th {\n",
       "        text-align: right;\n",
       "    }\n",
       "</style>\n",
       "<table border=\"1\" class=\"dataframe\">\n",
       "  <thead>\n",
       "    <tr style=\"text-align: right;\">\n",
       "      <th></th>\n",
       "      <th>patient</th>\n",
       "      <th>startdate</th>\n",
       "      <th>stopdate</th>\n",
       "      <th>is_covid_hospitalization</th>\n",
       "      <th>is_covid_death</th>\n",
       "      <th>leading_provider</th>\n",
       "      <th>duration</th>\n",
       "      <th>birthdate</th>\n",
       "      <th>gender</th>\n",
       "      <th>race</th>\n",
       "      <th>age</th>\n",
       "    </tr>\n",
       "  </thead>\n",
       "  <tbody>\n",
       "    <tr>\n",
       "      <th>692</th>\n",
       "      <td>5ec541c4-0c72-46ad-bf7e-a7803abb9927</td>\n",
       "      <td>2020-03-11 01:29:12</td>\n",
       "      <td>2020-04-01 02:20:12</td>\n",
       "      <td>True</td>\n",
       "      <td>False</td>\n",
       "      <td>5ed53ed3-568e-3f70-9797-49ebdc4a74e9</td>\n",
       "      <td>21 days 00:51:00</td>\n",
       "      <td>1999-08-16</td>\n",
       "      <td>F</td>\n",
       "      <td>white</td>\n",
       "      <td>7513 days 01:29:12</td>\n",
       "    </tr>\n",
       "  </tbody>\n",
       "</table>\n",
       "</div>"
      ],
      "text/plain": [
       "                                  patient           startdate  \\\n",
       "692  5ec541c4-0c72-46ad-bf7e-a7803abb9927 2020-03-11 01:29:12   \n",
       "\n",
       "               stopdate  is_covid_hospitalization  is_covid_death  \\\n",
       "692 2020-04-01 02:20:12                      True           False   \n",
       "\n",
       "                         leading_provider         duration  birthdate gender  \\\n",
       "692  5ed53ed3-568e-3f70-9797-49ebdc4a74e9 21 days 00:51:00 1999-08-16      F   \n",
       "\n",
       "      race                age  \n",
       "692  white 7513 days 01:29:12  "
      ]
     },
     "execution_count": 5,
     "metadata": {},
     "output_type": "execute_result"
    }
   ],
   "source": [
    "# load and process the data\n",
    "# see the `DataExploration` notebook for details\n",
    "data_loader = covid_modeling.io.DataLoader(data_dir)\n",
    "hdf = data_loader.get_covid_hospitalizations_dataframe()\n",
    "hdf.sample(n=1)"
   ]
  },
  {
   "cell_type": "code",
   "execution_count": 6,
   "id": "a818e0dc-8f04-4985-b59b-6734fa364a30",
   "metadata": {},
   "outputs": [],
   "source": [
    "# validate correct data processing\n",
    "assert np.all(hdf.is_covid_hospitalization)"
   ]
  },
  {
   "cell_type": "code",
   "execution_count": 7,
   "id": "f6873a4a-32ed-4a7a-9307-82840fe3e882",
   "metadata": {},
   "outputs": [],
   "source": [
    "# convert age to float and scale to years\n",
    "hdf[\"age\"] = hdf.age.map(lambda td: td / timedelta(days=365))"
   ]
  },
  {
   "cell_type": "code",
   "execution_count": 8,
   "id": "835b4627-44f9-4191-a3d3-07e814fff0bd",
   "metadata": {},
   "outputs": [
    {
     "data": {
      "text/plain": [
       "0    0.815212\n",
       "1    0.184788\n",
       "Name: covid_death, dtype: float64"
      ]
     },
     "execution_count": 8,
     "metadata": {},
     "output_type": "execute_result"
    }
   ],
   "source": [
    "# convert outcome to dummy var\n",
    "hdf[\"covid_death\"] = hdf.is_covid_death.astype(int)\n",
    "hdf.covid_death.value_counts() / len(hdf)"
   ]
  },
  {
   "cell_type": "code",
   "execution_count": 9,
   "id": "5434244f-2007-4dd9-904a-8e6d839f0f58",
   "metadata": {},
   "outputs": [],
   "source": [
    "# convert gender to dummy var\n",
    "hdf[\"is_female\"] = (hdf.gender == \"F\").astype(int)"
   ]
  },
  {
   "cell_type": "code",
   "execution_count": 10,
   "id": "6f22b0d9-1f0f-470c-910e-eaa02a7804f5",
   "metadata": {},
   "outputs": [
    {
     "data": {
      "text/plain": [
       "_white    1556\n",
       "black      171\n",
       "asian      134\n",
       "native       6\n",
       "Name: race_, dtype: int64"
      ]
     },
     "execution_count": 10,
     "metadata": {},
     "output_type": "execute_result"
    }
   ],
   "source": [
    "# hacky, but to make the model formulas less verbose we rename 'white' so it comes first alphabetically\n",
    "# this sets 'white' as the default categorical level (i.e. the omitted column)\n",
    "# this raises concerns about \"white as default\", but reflects the proportions\n",
    "hdf[\"race_\"] = hdf.race.map(lambda r: \"_\" + r if r == \"white\" else r)\n",
    "hdf.race_.value_counts()"
   ]
  },
  {
   "cell_type": "code",
   "execution_count": 11,
   "id": "46b0b9fb-f537-42a0-ad6f-76ff56bae586",
   "metadata": {},
   "outputs": [
    {
     "data": {
      "text/plain": [
       "0    1556\n",
       "1     311\n",
       "Name: is_nonwhite, dtype: int64"
      ]
     },
     "execution_count": 11,
     "metadata": {},
     "output_type": "execute_result"
    }
   ],
   "source": [
    "# speaking of fraught modeling decisions,\n",
    "# we can also consider models where the non-white categories are combined\n",
    "# to produce a dummy variable requiring only a single coefficient\n",
    "hdf[\"is_nonwhite\"] = (hdf.race != \"white\").astype(int)\n",
    "hdf.is_nonwhite.value_counts()"
   ]
  },
  {
   "cell_type": "code",
   "execution_count": 12,
   "id": "3c905837-2c12-4980-9fec-d3adca87c8bc",
   "metadata": {},
   "outputs": [
    {
     "data": {
      "text/html": [
       "<div>\n",
       "<style scoped>\n",
       "    .dataframe tbody tr th:only-of-type {\n",
       "        vertical-align: middle;\n",
       "    }\n",
       "\n",
       "    .dataframe tbody tr th {\n",
       "        vertical-align: top;\n",
       "    }\n",
       "\n",
       "    .dataframe thead th {\n",
       "        text-align: right;\n",
       "    }\n",
       "</style>\n",
       "<table border=\"1\" class=\"dataframe\">\n",
       "  <thead>\n",
       "    <tr style=\"text-align: right;\">\n",
       "      <th>gender</th>\n",
       "      <th>F</th>\n",
       "      <th>M</th>\n",
       "      <th>All</th>\n",
       "    </tr>\n",
       "    <tr>\n",
       "      <th>race</th>\n",
       "      <th></th>\n",
       "      <th></th>\n",
       "      <th></th>\n",
       "    </tr>\n",
       "  </thead>\n",
       "  <tbody>\n",
       "    <tr>\n",
       "      <th>asian</th>\n",
       "      <td>63</td>\n",
       "      <td>71</td>\n",
       "      <td>134</td>\n",
       "    </tr>\n",
       "    <tr>\n",
       "      <th>black</th>\n",
       "      <td>81</td>\n",
       "      <td>90</td>\n",
       "      <td>171</td>\n",
       "    </tr>\n",
       "    <tr>\n",
       "      <th>native</th>\n",
       "      <td>3</td>\n",
       "      <td>3</td>\n",
       "      <td>6</td>\n",
       "    </tr>\n",
       "    <tr>\n",
       "      <th>white</th>\n",
       "      <td>855</td>\n",
       "      <td>701</td>\n",
       "      <td>1556</td>\n",
       "    </tr>\n",
       "    <tr>\n",
       "      <th>All</th>\n",
       "      <td>1002</td>\n",
       "      <td>865</td>\n",
       "      <td>1867</td>\n",
       "    </tr>\n",
       "  </tbody>\n",
       "</table>\n",
       "</div>"
      ],
      "text/plain": [
       "gender     F    M   All\n",
       "race                   \n",
       "asian     63   71   134\n",
       "black     81   90   171\n",
       "native     3    3     6\n",
       "white    855  701  1556\n",
       "All     1002  865  1867"
      ]
     },
     "execution_count": 12,
     "metadata": {},
     "output_type": "execute_result"
    }
   ],
   "source": [
    "pd.crosstab(hdf.race, hdf.gender, margins=True)"
   ]
  },
  {
   "cell_type": "code",
   "execution_count": 13,
   "id": "fdeab5ce-6ff6-4c31-80c7-d24ea3d94b9a",
   "metadata": {},
   "outputs": [
    {
     "data": {
      "text/html": [
       "<div>\n",
       "<style scoped>\n",
       "    .dataframe tbody tr th:only-of-type {\n",
       "        vertical-align: middle;\n",
       "    }\n",
       "\n",
       "    .dataframe tbody tr th {\n",
       "        vertical-align: top;\n",
       "    }\n",
       "\n",
       "    .dataframe thead th {\n",
       "        text-align: right;\n",
       "    }\n",
       "</style>\n",
       "<table border=\"1\" class=\"dataframe\">\n",
       "  <thead>\n",
       "    <tr style=\"text-align: right;\">\n",
       "      <th>gender</th>\n",
       "      <th>F</th>\n",
       "      <th>M</th>\n",
       "      <th>All</th>\n",
       "    </tr>\n",
       "    <tr>\n",
       "      <th>race</th>\n",
       "      <th></th>\n",
       "      <th></th>\n",
       "      <th></th>\n",
       "    </tr>\n",
       "  </thead>\n",
       "  <tbody>\n",
       "    <tr>\n",
       "      <th>asian</th>\n",
       "      <td>12.7%</td>\n",
       "      <td>19.7%</td>\n",
       "      <td>16.4%</td>\n",
       "    </tr>\n",
       "    <tr>\n",
       "      <th>black</th>\n",
       "      <td>12.3%</td>\n",
       "      <td>24.4%</td>\n",
       "      <td>18.7%</td>\n",
       "    </tr>\n",
       "    <tr>\n",
       "      <th>native</th>\n",
       "      <td>33.3%</td>\n",
       "      <td>0.0%</td>\n",
       "      <td>16.7%</td>\n",
       "    </tr>\n",
       "    <tr>\n",
       "      <th>white</th>\n",
       "      <td>15.1%</td>\n",
       "      <td>23.0%</td>\n",
       "      <td>18.6%</td>\n",
       "    </tr>\n",
       "    <tr>\n",
       "      <th>All</th>\n",
       "      <td>14.8%</td>\n",
       "      <td>22.8%</td>\n",
       "      <td>18.5%</td>\n",
       "    </tr>\n",
       "  </tbody>\n",
       "</table>\n",
       "</div>"
      ],
      "text/plain": [
       "gender      F      M    All\n",
       "race                       \n",
       "asian   12.7%  19.7%  16.4%\n",
       "black   12.3%  24.4%  18.7%\n",
       "native  33.3%   0.0%  16.7%\n",
       "white   15.1%  23.0%  18.6%\n",
       "All     14.8%  22.8%  18.5%"
      ]
     },
     "execution_count": 13,
     "metadata": {},
     "output_type": "execute_result"
    }
   ],
   "source": [
    "# death rate by race and gender\n",
    "pd.crosstab(hdf.race, hdf.gender, values=hdf.covid_death, aggfunc=lambda g: f\"{g.sum() / len(g):.1%}\", margins=True)"
   ]
  },
  {
   "cell_type": "code",
   "execution_count": 14,
   "id": "bed4691b-f3a4-4d6e-b681-911971c9bc3d",
   "metadata": {},
   "outputs": [
    {
     "data": {
      "image/png": "[encoded data removed]",
      "text/plain": [
       "<Figure size 500x500 with 1 Axes>"
      ]
     },
     "metadata": {},
     "output_type": "display_data"
    }
   ],
   "source": [
    "# patient survival by age\n",
    "# looks like age correlates with survival\n",
    "fig, ax = plt.subplots(1, 1, figsize=(5, 5))\n",
    "\n",
    "ax.violinplot([hdf.age, hdf[~hdf.is_covid_death].age, hdf[hdf.is_covid_death].age], showmeans=True)\n",
    "\n",
    "ax.set_xticks([1, 2, 3])\n",
    "ax.set_xticklabels([\"All\", \"Survived\", \"Deceased\"])\n",
    "ax.set_ylabel(\"Age at time of hospitalization (years)\")\n",
    "ax.set_title(\"Patient survival by age\")\n",
    "\n",
    "plt.show()"
   ]
  },
  {
   "cell_type": "code",
   "execution_count": null,
   "id": "57786c80-4f84-41f7-aee6-18fe3243b250",
   "metadata": {},
   "outputs": [],
   "source": []
  },
  {
   "cell_type": "code",
   "execution_count": 15,
   "id": "cfba7995-00fa-4952-b232-2e91dc037db7",
   "metadata": {},
   "outputs": [
    {
     "name": "stdout",
     "output_type": "stream",
     "text": [
      "Considering 13 different model configurations.\n"
     ]
    }
   ],
   "source": [
    "# lets fit and compare different models\n",
    "# note we're using R/Patsy model syntax here\n",
    "model_formulas = [\n",
    "    (\"Gender Only\", \"covid_death ~ is_female\"),\n",
    "    (\"Race Only\", \"covid_death ~ race_\"),\n",
    "    (\"Age Only\", \"covid_death ~ age\"),\n",
    "    (\"R+A\", \"covid_death ~ race_ + age\"),\n",
    "    (\"G+A\", \"covid_death ~ is_female + age\"),\n",
    "    (\"G+R\", \"covid_death ~ is_female + race_\"),\n",
    "    (\"G+R+A\", \"covid_death ~ is_female + race_ + age\"),\n",
    "    (\"All Interactions\", \"covid_death ~ is_female + race_ + age + is_female*race_*age\"),\n",
    "    (\"Age/Gender Ints\", \"covid_death ~ is_female + race_ + age + is_female*age\"),\n",
    "    (\"Age/Gender Ints No Race\", \"covid_death ~ is_female + race_ + age + is_female*age\"),\n",
    "    (\"Age/Race Ints\", \"covid_death ~ is_female + race_ + age + race_*age\"),\n",
    "    (\"Race/Gender Ints\", \"covid_death ~ is_female + race_ + age + race_*is_female\"),\n",
    "    (\"G+A+binary Race\", \"covid_death ~ is_female + is_nonwhite + age\"),\n",
    "]\n",
    "print(f\"Considering {len(model_formulas)} different model configurations.\")"
   ]
  },
  {
   "cell_type": "code",
   "execution_count": 16,
   "id": "a54f1491-3aad-43a2-9426-bc2b4d9e5575",
   "metadata": {},
   "outputs": [
    {
     "name": "stderr",
     "output_type": "stream",
     "text": [
      "100%|█████████████████████████████████████████████████████████████████████████████| 13/13 [00:07<00:00,  1.70it/s]\n"
     ]
    }
   ],
   "source": [
    "results = covid_modeling.modeling.evaluate_models(hdf, model_formulas)"
   ]
  },
  {
   "cell_type": "code",
   "execution_count": 17,
   "id": "75709b4a-026f-4f0e-83e0-89096a4d2cf4",
   "metadata": {},
   "outputs": [
    {
     "data": {
      "text/html": [
       "<div>\n",
       "<style scoped>\n",
       "    .dataframe tbody tr th:only-of-type {\n",
       "        vertical-align: middle;\n",
       "    }\n",
       "\n",
       "    .dataframe tbody tr th {\n",
       "        vertical-align: top;\n",
       "    }\n",
       "\n",
       "    .dataframe thead th {\n",
       "        text-align: right;\n",
       "    }\n",
       "</style>\n",
       "<table border=\"1\" class=\"dataframe\">\n",
       "  <thead>\n",
       "    <tr style=\"text-align: right;\">\n",
       "      <th></th>\n",
       "      <th>model_name</th>\n",
       "      <th>l2</th>\n",
       "      <th>f1</th>\n",
       "      <th>roc_auc</th>\n",
       "    </tr>\n",
       "  </thead>\n",
       "  <tbody>\n",
       "    <tr>\n",
       "      <th>16</th>\n",
       "      <td>Age/Gender Ints</td>\n",
       "      <td>False</td>\n",
       "      <td>0.466667</td>\n",
       "      <td>0.827603</td>\n",
       "    </tr>\n",
       "    <tr>\n",
       "      <th>18</th>\n",
       "      <td>Age/Gender Ints No Race</td>\n",
       "      <td>False</td>\n",
       "      <td>0.466667</td>\n",
       "      <td>0.827603</td>\n",
       "    </tr>\n",
       "    <tr>\n",
       "      <th>8</th>\n",
       "      <td>G+A</td>\n",
       "      <td>False</td>\n",
       "      <td>0.464567</td>\n",
       "      <td>0.830879</td>\n",
       "    </tr>\n",
       "    <tr>\n",
       "      <th>24</th>\n",
       "      <td>G+A+binary Race</td>\n",
       "      <td>False</td>\n",
       "      <td>0.456693</td>\n",
       "      <td>0.831330</td>\n",
       "    </tr>\n",
       "    <tr>\n",
       "      <th>6</th>\n",
       "      <td>R+A</td>\n",
       "      <td>False</td>\n",
       "      <td>0.456349</td>\n",
       "      <td>0.822090</td>\n",
       "    </tr>\n",
       "    <tr>\n",
       "      <th>4</th>\n",
       "      <td>Age Only</td>\n",
       "      <td>False</td>\n",
       "      <td>0.454183</td>\n",
       "      <td>0.825510</td>\n",
       "    </tr>\n",
       "    <tr>\n",
       "      <th>9</th>\n",
       "      <td>G+A</td>\n",
       "      <td>True</td>\n",
       "      <td>0.453815</td>\n",
       "      <td>0.650628</td>\n",
       "    </tr>\n",
       "    <tr>\n",
       "      <th>12</th>\n",
       "      <td>G+R+A</td>\n",
       "      <td>False</td>\n",
       "      <td>0.448413</td>\n",
       "      <td>0.808751</td>\n",
       "    </tr>\n",
       "    <tr>\n",
       "      <th>25</th>\n",
       "      <td>G+A+binary Race</td>\n",
       "      <td>True</td>\n",
       "      <td>0.445783</td>\n",
       "      <td>0.647072</td>\n",
       "    </tr>\n",
       "    <tr>\n",
       "      <th>20</th>\n",
       "      <td>Age/Race Ints</td>\n",
       "      <td>False</td>\n",
       "      <td>0.437751</td>\n",
       "      <td>0.789008</td>\n",
       "    </tr>\n",
       "    <tr>\n",
       "      <th>14</th>\n",
       "      <td>All Interactions</td>\n",
       "      <td>False</td>\n",
       "      <td>0.424742</td>\n",
       "      <td>0.764932</td>\n",
       "    </tr>\n",
       "    <tr>\n",
       "      <th>5</th>\n",
       "      <td>Age Only</td>\n",
       "      <td>True</td>\n",
       "      <td>0.423868</td>\n",
       "      <td>0.636792</td>\n",
       "    </tr>\n",
       "    <tr>\n",
       "      <th>22</th>\n",
       "      <td>Race/Gender Ints</td>\n",
       "      <td>False</td>\n",
       "      <td>0.415479</td>\n",
       "      <td>0.765825</td>\n",
       "    </tr>\n",
       "    <tr>\n",
       "      <th>15</th>\n",
       "      <td>All Interactions</td>\n",
       "      <td>True</td>\n",
       "      <td>0.115486</td>\n",
       "      <td>0.527285</td>\n",
       "    </tr>\n",
       "    <tr>\n",
       "      <th>17</th>\n",
       "      <td>Age/Gender Ints</td>\n",
       "      <td>True</td>\n",
       "      <td>0.110818</td>\n",
       "      <td>0.526164</td>\n",
       "    </tr>\n",
       "    <tr>\n",
       "      <th>19</th>\n",
       "      <td>Age/Gender Ints No Race</td>\n",
       "      <td>True</td>\n",
       "      <td>0.110818</td>\n",
       "      <td>0.526164</td>\n",
       "    </tr>\n",
       "    <tr>\n",
       "      <th>21</th>\n",
       "      <td>Age/Race Ints</td>\n",
       "      <td>True</td>\n",
       "      <td>0.110526</td>\n",
       "      <td>0.525836</td>\n",
       "    </tr>\n",
       "    <tr>\n",
       "      <th>7</th>\n",
       "      <td>R+A</td>\n",
       "      <td>True</td>\n",
       "      <td>0.105820</td>\n",
       "      <td>0.524715</td>\n",
       "    </tr>\n",
       "    <tr>\n",
       "      <th>13</th>\n",
       "      <td>G+R+A</td>\n",
       "      <td>True</td>\n",
       "      <td>0.105820</td>\n",
       "      <td>0.524715</td>\n",
       "    </tr>\n",
       "    <tr>\n",
       "      <th>23</th>\n",
       "      <td>Race/Gender Ints</td>\n",
       "      <td>True</td>\n",
       "      <td>0.105820</td>\n",
       "      <td>0.524715</td>\n",
       "    </tr>\n",
       "    <tr>\n",
       "      <th>10</th>\n",
       "      <td>G+R</td>\n",
       "      <td>False</td>\n",
       "      <td>0.000000</td>\n",
       "      <td>0.518613</td>\n",
       "    </tr>\n",
       "    <tr>\n",
       "      <th>0</th>\n",
       "      <td>Gender Only</td>\n",
       "      <td>False</td>\n",
       "      <td>0.000000</td>\n",
       "      <td>0.518322</td>\n",
       "    </tr>\n",
       "    <tr>\n",
       "      <th>1</th>\n",
       "      <td>Gender Only</td>\n",
       "      <td>True</td>\n",
       "      <td>0.000000</td>\n",
       "      <td>0.500000</td>\n",
       "    </tr>\n",
       "    <tr>\n",
       "      <th>3</th>\n",
       "      <td>Race Only</td>\n",
       "      <td>True</td>\n",
       "      <td>0.000000</td>\n",
       "      <td>0.500000</td>\n",
       "    </tr>\n",
       "    <tr>\n",
       "      <th>11</th>\n",
       "      <td>G+R</td>\n",
       "      <td>True</td>\n",
       "      <td>0.000000</td>\n",
       "      <td>0.500000</td>\n",
       "    </tr>\n",
       "    <tr>\n",
       "      <th>2</th>\n",
       "      <td>Race Only</td>\n",
       "      <td>False</td>\n",
       "      <td>0.000000</td>\n",
       "      <td>0.413524</td>\n",
       "    </tr>\n",
       "  </tbody>\n",
       "</table>\n",
       "</div>"
      ],
      "text/plain": [
       "                 model_name     l2        f1   roc_auc\n",
       "16          Age/Gender Ints  False  0.466667  0.827603\n",
       "18  Age/Gender Ints No Race  False  0.466667  0.827603\n",
       "8                       G+A  False  0.464567  0.830879\n",
       "24          G+A+binary Race  False  0.456693  0.831330\n",
       "6                       R+A  False  0.456349  0.822090\n",
       "4                  Age Only  False  0.454183  0.825510\n",
       "9                       G+A   True  0.453815  0.650628\n",
       "12                    G+R+A  False  0.448413  0.808751\n",
       "25          G+A+binary Race   True  0.445783  0.647072\n",
       "20            Age/Race Ints  False  0.437751  0.789008\n",
       "14         All Interactions  False  0.424742  0.764932\n",
       "5                  Age Only   True  0.423868  0.636792\n",
       "22         Race/Gender Ints  False  0.415479  0.765825\n",
       "15         All Interactions   True  0.115486  0.527285\n",
       "17          Age/Gender Ints   True  0.110818  0.526164\n",
       "19  Age/Gender Ints No Race   True  0.110818  0.526164\n",
       "21            Age/Race Ints   True  0.110526  0.525836\n",
       "7                       R+A   True  0.105820  0.524715\n",
       "13                    G+R+A   True  0.105820  0.524715\n",
       "23         Race/Gender Ints   True  0.105820  0.524715\n",
       "10                      G+R  False  0.000000  0.518613\n",
       "0               Gender Only  False  0.000000  0.518322\n",
       "1               Gender Only   True  0.000000  0.500000\n",
       "3                 Race Only   True  0.000000  0.500000\n",
       "11                      G+R   True  0.000000  0.500000\n",
       "2                 Race Only  False  0.000000  0.413524"
      ]
     },
     "execution_count": 17,
     "metadata": {},
     "output_type": "execute_result"
    }
   ],
   "source": [
    "# F1 is our \"gold-standard\" metric here, i.e. the metric we will use for model selection\n",
    "# absent any better information about our goals, this places an emphasis on predicting deaths correctly\n",
    "# looks like the Age/Gender Ints model is the best; we'll choose the one without race by the principle of simplicity\n",
    "pd.DataFrame(results).sort_values(by=[\"f1\", \"roc_auc\"], ascending=False).head(40)"
   ]
  },
  {
   "cell_type": "code",
   "execution_count": 18,
   "id": "c5a6dc49-5cf8-4fd7-b563-c5b6df3f661e",
   "metadata": {},
   "outputs": [
    {
     "data": {
      "text/html": [
       "<table class=\"simpletable\">\n",
       "<caption>Logit Regression Results</caption>\n",
       "<tr>\n",
       "  <th>Dep. Variable:</th>      <td>covid_death</td>   <th>  No. Observations:  </th>  <td>  1867</td>  \n",
       "</tr>\n",
       "<tr>\n",
       "  <th>Model:</th>                 <td>Logit</td>      <th>  Df Residuals:      </th>  <td>  1863</td>  \n",
       "</tr>\n",
       "<tr>\n",
       "  <th>Method:</th>                 <td>MLE</td>       <th>  Df Model:          </th>  <td>     3</td>  \n",
       "</tr>\n",
       "<tr>\n",
       "  <th>Date:</th>            <td>Mon, 20 Mar 2023</td> <th>  Pseudo R-squ.:     </th>  <td>0.2547</td>  \n",
       "</tr>\n",
       "<tr>\n",
       "  <th>Time:</th>                <td>18:42:54</td>     <th>  Log-Likelihood:    </th> <td> -665.97</td> \n",
       "</tr>\n",
       "<tr>\n",
       "  <th>converged:</th>             <td>True</td>       <th>  LL-Null:           </th> <td> -893.50</td> \n",
       "</tr>\n",
       "<tr>\n",
       "  <th>Covariance Type:</th>     <td>nonrobust</td>    <th>  LLR p-value:       </th> <td>2.601e-98</td>\n",
       "</tr>\n",
       "</table>\n",
       "<table class=\"simpletable\">\n",
       "<tr>\n",
       "        <td></td>           <th>coef</th>     <th>std err</th>      <th>z</th>      <th>P>|z|</th>  <th>[0.025</th>    <th>0.975]</th>  \n",
       "</tr>\n",
       "<tr>\n",
       "  <th>Intercept</th>     <td>   -5.5402</td> <td>    0.414</td> <td>  -13.374</td> <td> 0.000</td> <td>   -6.352</td> <td>   -4.728</td>\n",
       "</tr>\n",
       "<tr>\n",
       "  <th>is_female</th>     <td>   -1.2376</td> <td>    0.635</td> <td>   -1.950</td> <td> 0.051</td> <td>   -2.481</td> <td>    0.006</td>\n",
       "</tr>\n",
       "<tr>\n",
       "  <th>age</th>           <td>    0.0721</td> <td>    0.006</td> <td>   11.502</td> <td> 0.000</td> <td>    0.060</td> <td>    0.084</td>\n",
       "</tr>\n",
       "<tr>\n",
       "  <th>age:is_female</th> <td>    0.0086</td> <td>    0.009</td> <td>    0.919</td> <td> 0.358</td> <td>   -0.010</td> <td>    0.027</td>\n",
       "</tr>\n",
       "</table>"
      ],
      "text/plain": [
       "<class 'statsmodels.iolib.summary.Summary'>\n",
       "\"\"\"\n",
       "                           Logit Regression Results                           \n",
       "==============================================================================\n",
       "Dep. Variable:            covid_death   No. Observations:                 1867\n",
       "Model:                          Logit   Df Residuals:                     1863\n",
       "Method:                           MLE   Df Model:                            3\n",
       "Date:                Mon, 20 Mar 2023   Pseudo R-squ.:                  0.2547\n",
       "Time:                        18:42:54   Log-Likelihood:                -665.97\n",
       "converged:                       True   LL-Null:                       -893.50\n",
       "Covariance Type:            nonrobust   LLR p-value:                 2.601e-98\n",
       "=================================================================================\n",
       "                    coef    std err          z      P>|z|      [0.025      0.975]\n",
       "---------------------------------------------------------------------------------\n",
       "Intercept        -5.5402      0.414    -13.374      0.000      -6.352      -4.728\n",
       "is_female        -1.2376      0.635     -1.950      0.051      -2.481       0.006\n",
       "age               0.0721      0.006     11.502      0.000       0.060       0.084\n",
       "age:is_female     0.0086      0.009      0.919      0.358      -0.010       0.027\n",
       "=================================================================================\n",
       "\"\"\""
      ]
     },
     "execution_count": 18,
     "metadata": {},
     "output_type": "execute_result"
    }
   ],
   "source": [
    "# let's interpret the best model and pull out the modeling code for a closer look\n",
    "formula = \"covid_death ~ is_female + age + age:is_female\"\n",
    "md = smf.logit(formula=formula, data=hdf)\n",
    "res = md.fit(method=\"newton\", disp=False)\n",
    "params = res.params\n",
    "res.summary()"
   ]
  },
  {
   "cell_type": "code",
   "execution_count": 19,
   "id": "4c8e88cc-bfd9-4413-a735-8134550a992f",
   "metadata": {},
   "outputs": [],
   "source": [
    "kfold = sklearn.model_selection.KFold(n_splits=20, shuffle=False)\n",
    "y_score = np.zeros(len(hdf))\n",
    "for train_index, test_index in kfold.split(hdf):\n",
    "    train_df = hdf.iloc[train_index]\n",
    "    test_df = hdf.iloc[test_index]\n",
    "    try:\n",
    "        formula = \"covid_death ~ is_female + age + is_female:age\"\n",
    "        md = smf.logit(formula=formula, data=train_df)\n",
    "        res = md.fit(method=\"newton\", disp=False)\n",
    "        preds = res.predict(test_df)\n",
    "        y_score[test_index] = preds\n",
    "    except:\n",
    "        y_score[test_index] = 0  # majority-class prediction\n",
    "y_true = hdf.covid_death\n",
    "y_pred = (y_score >= 0.5).astype(int)"
   ]
  },
  {
   "cell_type": "code",
   "execution_count": 20,
   "id": "d61edfc9-e5b8-4285-bf76-feecc042e540",
   "metadata": {},
   "outputs": [
    {
     "name": "stdout",
     "output_type": "stream",
     "text": [
      "              precision    recall  f1-score   support\n",
      "\n",
      "    survived       0.87      0.97      0.92      1522\n",
      "    deceased       0.72      0.34      0.46       345\n",
      "\n",
      "    accuracy                           0.85      1867\n",
      "   macro avg       0.80      0.66      0.69      1867\n",
      "weighted avg       0.84      0.85      0.83      1867\n",
      "\n",
      "\n",
      "Accuracy: 85.4%\n",
      "ROC AUC: 0.832\n"
     ]
    }
   ],
   "source": [
    "print(sklearn.metrics.classification_report(y_true, y_pred, target_names=[\"survived\", \"deceased\"]))\n",
    "print()\n",
    "print(f\"Accuracy: {(y_true == y_pred).sum() / len(y_true):.1%}\")\n",
    "print(f\"ROC AUC: {sklearn.metrics.roc_auc_score(y_true, y_score):.3f}\")"
   ]
  },
  {
   "cell_type": "code",
   "execution_count": 21,
   "id": "566d1de0-6da0-4120-ae64-f9835ddb4617",
   "metadata": {},
   "outputs": [
    {
     "data": {
      "text/plain": [
       "Intercept        0.003926\n",
       "is_female        0.290087\n",
       "age              1.074788\n",
       "age:is_female    1.008605\n",
       "dtype: float64"
      ]
     },
     "execution_count": 21,
     "metadata": {},
     "output_type": "execute_result"
    }
   ],
   "source": [
    "np.exp(params)"
   ]
  },
  {
   "cell_type": "code",
   "execution_count": 22,
   "id": "4b2ce7e0-d4aa-41a9-a108-05d5b4be19fd",
   "metadata": {},
   "outputs": [
    {
     "name": "stdout",
     "output_type": "stream",
     "text": [
      "A 1-year increase in patient age is associated with a 7.48% increase in the odds of patient death.\n",
      "For the average 50-year-old, being female rather than male is associated with a 55.48% decrease in the odds of patient death.\n",
      "For the average 60-year-old, being female rather than male is associated with a 51.49% decrease in the odds of patient death.\n",
      "For the average 70-year-old, being female rather than male is associated with a 47.15% decrease in the odds of patient death.\n",
      "For the average 80-year-old, being female rather than male is associated with a 42.43% decrease in the odds of patient death.\n",
      "By the assumptions of the reported model, race has zero impact on the odds of patient death.\n"
     ]
    }
   ],
   "source": [
    "print(\n",
    "    f\"A 1-year increase in patient age is associated with a {np.exp(params.age) - 1:.2%} increase in the odds of patient death.\"\n",
    ")\n",
    "for age in [50, 60, 70, 80]:\n",
    "    print(\n",
    "        f\"For the average {age}-year-old, being female rather than male is associated with a {1 - np.exp(params.is_female + params['age:is_female']*age):.2%} decrease in the odds of patient death.\"\n",
    "    )\n",
    "print(\"By the assumptions of the reported model, race has zero impact on the odds of patient death.\")"
   ]
  },
  {
   "cell_type": "code",
   "execution_count": null,
   "id": "ea0a0c19-5e12-43b9-a136-6d7936e05b80",
   "metadata": {},
   "outputs": [],
   "source": []
  },
  {
   "cell_type": "code",
   "execution_count": 23,
   "id": "9f0103fd-53f6-4000-b01c-f5ac46563fe8",
   "metadata": {},
   "outputs": [
    {
     "data": {
      "text/html": [
       "<table class=\"simpletable\">\n",
       "<caption>Logit Regression Results</caption>\n",
       "<tr>\n",
       "  <th>Dep. Variable:</th>      <td>covid_death</td>   <th>  No. Observations:  </th>  <td>  1867</td>  \n",
       "</tr>\n",
       "<tr>\n",
       "  <th>Model:</th>                 <td>Logit</td>      <th>  Df Residuals:      </th>  <td>  1863</td>  \n",
       "</tr>\n",
       "<tr>\n",
       "  <th>Method:</th>                 <td>MLE</td>       <th>  Df Model:          </th>  <td>     3</td>  \n",
       "</tr>\n",
       "<tr>\n",
       "  <th>Date:</th>            <td>Mon, 20 Mar 2023</td> <th>  Pseudo R-squ.:     </th>  <td>0.2549</td>  \n",
       "</tr>\n",
       "<tr>\n",
       "  <th>Time:</th>                <td>18:42:54</td>     <th>  Log-Likelihood:    </th> <td> -665.77</td> \n",
       "</tr>\n",
       "<tr>\n",
       "  <th>converged:</th>             <td>True</td>       <th>  LL-Null:           </th> <td> -893.50</td> \n",
       "</tr>\n",
       "<tr>\n",
       "  <th>Covariance Type:</th>     <td>nonrobust</td>    <th>  LLR p-value:       </th> <td>2.121e-98</td>\n",
       "</tr>\n",
       "</table>\n",
       "<table class=\"simpletable\">\n",
       "<tr>\n",
       "       <td></td>          <th>coef</th>     <th>std err</th>      <th>z</th>      <th>P>|z|</th>  <th>[0.025</th>    <th>0.975]</th>  \n",
       "</tr>\n",
       "<tr>\n",
       "  <th>Intercept</th>   <td>   -5.7794</td> <td>    0.316</td> <td>  -18.305</td> <td> 0.000</td> <td>   -6.398</td> <td>   -5.161</td>\n",
       "</tr>\n",
       "<tr>\n",
       "  <th>is_female</th>   <td>   -0.6816</td> <td>    0.140</td> <td>   -4.862</td> <td> 0.000</td> <td>   -0.956</td> <td>   -0.407</td>\n",
       "</tr>\n",
       "<tr>\n",
       "  <th>age</th>         <td>    0.0765</td> <td>    0.005</td> <td>   16.376</td> <td> 0.000</td> <td>    0.067</td> <td>    0.086</td>\n",
       "</tr>\n",
       "<tr>\n",
       "  <th>is_nonwhite</th> <td>   -0.2103</td> <td>    0.189</td> <td>   -1.110</td> <td> 0.267</td> <td>   -0.582</td> <td>    0.161</td>\n",
       "</tr>\n",
       "</table>"
      ],
      "text/plain": [
       "<class 'statsmodels.iolib.summary.Summary'>\n",
       "\"\"\"\n",
       "                           Logit Regression Results                           \n",
       "==============================================================================\n",
       "Dep. Variable:            covid_death   No. Observations:                 1867\n",
       "Model:                          Logit   Df Residuals:                     1863\n",
       "Method:                           MLE   Df Model:                            3\n",
       "Date:                Mon, 20 Mar 2023   Pseudo R-squ.:                  0.2549\n",
       "Time:                        18:42:54   Log-Likelihood:                -665.77\n",
       "converged:                       True   LL-Null:                       -893.50\n",
       "Covariance Type:            nonrobust   LLR p-value:                 2.121e-98\n",
       "===============================================================================\n",
       "                  coef    std err          z      P>|z|      [0.025      0.975]\n",
       "-------------------------------------------------------------------------------\n",
       "Intercept      -5.7794      0.316    -18.305      0.000      -6.398      -5.161\n",
       "is_female      -0.6816      0.140     -4.862      0.000      -0.956      -0.407\n",
       "age             0.0765      0.005     16.376      0.000       0.067       0.086\n",
       "is_nonwhite    -0.2103      0.189     -1.110      0.267      -0.582       0.161\n",
       "===============================================================================\n",
       "\"\"\""
      ]
     },
     "execution_count": 23,
     "metadata": {},
     "output_type": "execute_result"
    }
   ],
   "source": [
    "# to validate our result about the non-importance of race, we can fit a model including race\n",
    "# note the wide confidence intervals for the is_nonwhite variable\n",
    "formula = \"covid_death ~ is_female + age + is_nonwhite\"\n",
    "md = smf.logit(formula=formula, data=hdf)\n",
    "res = md.fit(method=\"newton\", disp=False)\n",
    "params = res.params\n",
    "res.summary()"
   ]
  },
  {
   "cell_type": "code",
   "execution_count": null,
   "id": "3ff55c70-d295-4c55-9340-ba3c1249e590",
   "metadata": {},
   "outputs": [],
   "source": []
  },
  {
   "cell_type": "code",
   "execution_count": null,
   "id": "f36fe6c7-4a2e-4d64-b850-6c1b90887021",
   "metadata": {},
   "outputs": [],
   "source": []
  },
  {
   "cell_type": "code",
   "execution_count": null,
   "id": "2202ef55-1f27-4d6d-8aac-debb3e516a1f",
   "metadata": {},
   "outputs": [],
   "source": []
  }
 ],
 "metadata": {
  "kernelspec": {
   "display_name": "Python 3 (ipykernel)",
   "language": "python",
   "name": "python3"
  },
  "language_info": {
   "codemirror_mode": {
    "name": "ipython",
    "version": 3
   },
   "file_extension": ".py",
   "mimetype": "text/x-python",
   "name": "python",
   "nbconvert_exporter": "python",
   "pygments_lexer": "ipython3",
   "version": "3.9.13"
  }
 },
 "nbformat": 4,
 "nbformat_minor": 5
}
